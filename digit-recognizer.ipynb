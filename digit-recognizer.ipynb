{
 "cells": [
  {
   "cell_type": "code",
   "execution_count": 33,
   "metadata": {},
   "outputs": [],
   "source": [
    "import pandas\n",
    "train = pandas.read_csv('train.csv')\n"
   ]
  },
  {
   "cell_type": "code",
   "execution_count": 37,
   "metadata": {},
   "outputs": [
    {
     "data": {
      "image/png": "[encoded data removed]",
      "text/plain": [
       "<matplotlib.figure.Figure at 0x7ff5f5050b00>"
      ]
     },
     "metadata": {},
     "output_type": "display_data"
    },
    {
     "name": "stdout",
     "output_type": "stream",
     "text": [
      "<pandas.core.indexing._iLocIndexer object at 0x7ff5f43e1978>\n"
     ]
    }
   ],
   "source": [
    "imgs = train.iloc[:,1:]\n",
    "img0 = imgs.iloc[0].values.reshape(28,28)\n",
    "import matplotlib.pyplot as plot\n",
    "plot.figure(1, figsize=(5, 5))\n",
    "plot.imshow(img0, cmap=plot.cm.gray_r, interpolation='nearest')\n",
    "plot.show()\n",
    "\n",
    "labels = train.iloc[:,:1]\n",
    "print (labels.iloc(0))"
   ]
  },
  {
   "cell_type": "code",
   "execution_count": null,
   "metadata": {},
   "outputs": [],
   "source": []
  }
 ],
 "metadata": {
  "kernelspec": {
   "display_name": "Python 3",
   "language": "python",
   "name": "python3"
  },
  "language_info": {
   "codemirror_mode": {
    "name": "ipython",
    "version": 3
   },
   "file_extension": ".py",
   "mimetype": "text/x-python",
   "name": "python",
   "nbconvert_exporter": "python",
   "pygments_lexer": "ipython3",
   "version": "3.5.2"
  }
 },
 "nbformat": 4,
 "nbformat_minor": 2
}
